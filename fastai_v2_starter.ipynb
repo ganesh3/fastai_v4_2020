{
  "nbformat": 4,
  "nbformat_minor": 0,
  "metadata": {
    "colab": {
      "name": "fastai_v2_starter.ipynb",
      "provenance": [],
      "include_colab_link": true
    },
    "kernelspec": {
      "name": "python3",
      "display_name": "Python 3"
    }
  },
  "cells": [
    {
      "cell_type": "markdown",
      "metadata": {
        "id": "view-in-github",
        "colab_type": "text"
      },
      "source": [
        "<a href=\"https://colab.research.google.com/github/ganesh3/fastai_v4_2020/blob/master/fastai_v2_starter.ipynb\" target=\"_parent\"><img src=\"https://colab.research.google.com/assets/colab-badge.svg\" alt=\"Open In Colab\"/></a>"
      ]
    },
    {
      "cell_type": "markdown",
      "metadata": {
        "id": "zHT6H157NOZ4",
        "colab_type": "text"
      },
      "source": [
        "# Do Once"
      ]
    },
    {
      "cell_type": "markdown",
      "metadata": {
        "id": "LDpbWA1kNsOJ",
        "colab_type": "text"
      },
      "source": [
        "In a new notebook, mount your Google Drive by running the following cell:\n"
      ]
    },
    {
      "cell_type": "code",
      "metadata": {
        "id": "P-LFPaH9UaWp",
        "colab_type": "code",
        "colab": {}
      },
      "source": [
        "# Mount to your Google Drive allowing lesson files will be saved to your Drive location\n",
        "from google.colab import drive\n",
        "drive.mount('/content/drive')"
      ],
      "execution_count": 0,
      "outputs": []
    },
    {
      "cell_type": "markdown",
      "metadata": {
        "id": "11LGXycZN0tR",
        "colab_type": "text"
      },
      "source": [
        "Once mounted, clone fastbook into your Google Drive:\n"
      ]
    },
    {
      "cell_type": "code",
      "metadata": {
        "id": "a1x-h76PUoie",
        "colab_type": "code",
        "colab": {}
      },
      "source": [
        "# Initial downloading of all course-v4 notebooks, lessons, etc. to specified directory\n",
        "!git clone https://github.com/fastai/course-v4 'drive/My Drive/course-v4'"
      ],
      "execution_count": 0,
      "outputs": []
    },
    {
      "cell_type": "markdown",
      "metadata": {
        "id": "3Y_nNqeTOL4S",
        "colab_type": "text"
      },
      "source": [
        "Before running any fastai code, run the following in a new cell at the top:"
      ]
    },
    {
      "cell_type": "code",
      "metadata": {
        "id": "KiSIezeKOH9C",
        "colab_type": "code",
        "colab": {}
      },
      "source": [
        "!pip install fastai2"
      ],
      "execution_count": 0,
      "outputs": []
    },
    {
      "cell_type": "markdown",
      "metadata": {
        "id": "BNBdGxd-Ncq7",
        "colab_type": "text"
      },
      "source": [
        "# Do Before Every Class"
      ]
    },
    {
      "cell_type": "code",
      "metadata": {
        "id": "43QOJFnMKv-E",
        "colab_type": "code",
        "colab": {}
      },
      "source": [
        "# Update files before every lesson. This way you'll have the latest notebooks at the start of class\n",
        "!cd drive/My\\ Drive/course-v4 && git pull"
      ],
      "execution_count": 0,
      "outputs": []
    },
    {
      "cell_type": "markdown",
      "metadata": {
        "id": "kyMNAEEwN-1-",
        "colab_type": "text"
      },
      "source": [
        "3. To open any notebook for the course, navigate to the course-v4 directory in your Google Drive and open the chapter we are working out of in Colab.\n",
        "\n"
      ]
    },
    {
      "cell_type": "markdown",
      "metadata": {
        "id": "NexcZgCxODfc",
        "colab_type": "text"
      },
      "source": [
        "4. Select GPU from Runtime -> Change Runtime"
      ]
    },
    {
      "cell_type": "markdown",
      "metadata": {
        "id": "Jw5Ga2clOkJ-",
        "colab_type": "text"
      },
      "source": [
        "In each notebook, remount your drive (point 1)"
      ]
    },
    {
      "cell_type": "code",
      "metadata": {
        "id": "BbhBns96KyOl",
        "colab_type": "code",
        "colab": {}
      },
      "source": [
        "%cd 'drive/My Drive/course-v4/nbs'"
      ],
      "execution_count": 0,
      "outputs": []
    },
    {
      "cell_type": "markdown",
      "metadata": {
        "id": "lsOtDKY3Oys7",
        "colab_type": "text"
      },
      "source": [
        "to get any imports needed run:"
      ]
    },
    {
      "cell_type": "code",
      "metadata": {
        "id": "46C4XGEWKywj",
        "colab_type": "code",
        "colab": {}
      },
      "source": [
        "!pip install fastai2>=0.0.11 graphviz ipywidgets matplotlib nbdev>=0.2.12 pandas scikit_learn azure-cognitiveservices-search-imagesearch sentencepiece"
      ],
      "execution_count": 0,
      "outputs": []
    }
  ]
}